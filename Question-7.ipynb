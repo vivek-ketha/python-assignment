{
 "cells": [
  {
   "cell_type": "code",
   "execution_count": null,
   "id": "82600349",
   "metadata": {},
   "outputs": [],
   "source": [
    "import pandas as pd\n",
    "import matplotlib.pyplot as plt\n",
    "\n",
    "# Load the JSON data into a pandas DataFrame\n",
    "url = 'https://data.nasa.gov/resource/y77d-th95.json'\n",
    "data = pd.read_json(url)\n",
    "\n",
    "# Get all the Earth meteorites that fell before the year 2000\n",
    "year_threshold_2000 = 2000\n",
    "earth_meteorites_before_2000 = data[data['reclat'].notnull() & data['reclong'].notnull() & (data['year'] < year_threshold_2000)]\n",
    "\n",
    "# Get all the Earth meteorites' coordinates that fell before the year 1970\n",
    "year_threshold_1970 = 1970\n",
    "earth_meteorites_coordinates_before_1970 = earth_meteorites_before_2000[earth_meteorites_before_2000['year'] < year_threshold_1970][['reclat', 'reclong']]\n",
    "\n",
    "# Assuming that the mass of the Earth meteorites was in kg, get all those whose mass was more than 10000kg\n",
    "mass_threshold = 10000\n",
    "earth_meteorites_mass_more_than_10000kg = earth_meteorites_before_2000[earth_meteorites_before_2000['mass (g)'] > mass_threshold]\n",
    "\n",
    "# Plotting the results for better visualization\n",
    "\n",
    "# Scatter plot for Earth meteorites' coordinates before the year 1970\n",
    "plt.figure(figsize=(10, 6))\n",
    "plt.scatter(earth_meteorites_coordinates_before_1970['reclong'], earth_meteorites_coordinates_before_1970['reclat'])\n",
    "plt.xlabel('Longitude')\n",
    "plt.ylabel('Latitude')\n",
    "plt.title('Earth Meteorites\\' Coordinates Before 1970')\n",
    "plt.show()\n",
    "\n",
    "# Histogram for Earth meteorites' mass more than 10000kg\n",
    "plt.figure(figsize=(10, 6))\n",
    "plt.hist(earth_meteorites_mass_more_than_10000kg['mass (g)'] / 1000, bins=20)\n",
    "plt.xlabel('Mass (kg)')\n",
    "plt.ylabel('Count')\n",
    "plt.title('Earth Meteorites\\' Mass More Than 10000kg')\n",
    "plt.show()\n",
    "\n"
   ]
  },
  {
   "cell_type": "code",
   "execution_count": null,
   "id": "b0c02233",
   "metadata": {},
   "outputs": [],
   "source": []
  }
 ],
 "metadata": {
  "kernelspec": {
   "display_name": "Python 3 (ipykernel)",
   "language": "python",
   "name": "python3"
  },
  "language_info": {
   "codemirror_mode": {
    "name": "ipython",
    "version": 3
   },
   "file_extension": ".py",
   "mimetype": "text/x-python",
   "name": "python",
   "nbconvert_exporter": "python",
   "pygments_lexer": "ipython3",
   "version": "3.9.7"
  }
 },
 "nbformat": 4,
 "nbformat_minor": 5
}
