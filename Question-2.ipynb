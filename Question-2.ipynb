{
 "cells": [
  {
   "cell_type": "code",
   "execution_count": 1,
   "id": "6bbf30bc",
   "metadata": {},
   "outputs": [
    {
     "name": "stdout",
     "output_type": "stream",
     "text": [
      "5\n"
     ]
    }
   ],
   "source": [
    "from collections import Counter\n",
    "\n",
    "def is_valid_string(s):\n",
    "    # Count the frequency of each character\n",
    "    char_counts = Counter(s)\n",
    "\n",
    "    # Count the frequency counts\n",
    "    freq_counts = Counter(char_counts.values())\n",
    "\n",
    "    # If there is only one unique frequency, the string is valid\n",
    "    if len(freq_counts) == 1:\n",
    "        return \"YES\"\n",
    "\n",
    "    # If there are more than two unique frequencies, the string is not valid\n",
    "    if len(freq_counts) > 2:\n",
    "        return \"NO\"\n",
    "\n",
    "    # If there are exactly two unique frequencies\n",
    "    freq_values = list(freq_counts.values())\n",
    "    freq_keys = list(freq_counts.keys())\n",
    "\n",
    "    # If one frequency count is 1 and its corresponding value is 1, the string is valid\n",
    "    if (freq_values[0] == 1 and freq_keys[0] == 1) or (freq_values[1] == 1 and freq_keys[1] == 1):\n",
    "        return \"YES\"\n",
    "\n",
    "    # If the absolute difference between the two frequency counts is 1 and one of them has a count of 1, the string is valid\n",
    "    if abs(freq_keys[0] - freq_keys[1]) == 1 and (freq_values[0] == 1 or freq_values[1] == 1):\n",
    "        return \"YES\"\n",
    "\n",
    "    # Otherwise, the string is not valid\n",
    "    return \"NO\"\n",
    "\n",
    "# Test case 1\n",
    "s1 = \"abc\"\n",
    "print(is_valid_string(s1))\n",
    "\n",
    "# Test case 2\n",
    "s2 = \"abcc\"\n",
    "print(is_valid_string(s2))  "
   ]
  },
  {
   "cell_type": "code",
   "execution_count": null,
   "id": "cdca714c",
   "metadata": {},
   "outputs": [],
   "source": []
  }
 ],
 "metadata": {
  "kernelspec": {
   "display_name": "Python 3 (ipykernel)",
   "language": "python",
   "name": "python3"
  },
  "language_info": {
   "codemirror_mode": {
    "name": "ipython",
    "version": 3
   },
   "file_extension": ".py",
   "mimetype": "text/x-python",
   "name": "python",
   "nbconvert_exporter": "python",
   "pygments_lexer": "ipython3",
   "version": "3.9.7"
  }
 },
 "nbformat": 4,
 "nbformat_minor": 5
}
