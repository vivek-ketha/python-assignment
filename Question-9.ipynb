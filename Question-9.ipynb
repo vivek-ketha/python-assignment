{
 "cells": [
  {
   "cell_type": "code",
   "execution_count": null,
   "id": "3242dc62",
   "metadata": {},
   "outputs": [],
   "source": [
    "#Question-9\n",
    "\n",
    "import pandas as pd\n",
    "import matplotlib.pyplot as plt\n",
    "import seaborn as sns\n",
    "\n",
    "# Function to load the data from the CSV link\n",
    "def load_data(csv_link):\n",
    "    df = pd.read_csv(csv_link)\n",
    "    return df\n",
    "\n",
    "# Function to analyze the data and answer the questions\n",
    "def analyze_data(df):\n",
    "    # Get all the cars and their types that do not qualify for clean alternative fuel vehicle\n",
    "    non_qualifying_cars = df[df['Qualifies for Clean Alternative Fuel Vehicle'] == 'No']\n",
    "    non_qualifying_cars_info = non_qualifying_cars[['Car Make', 'Car Type']]\n",
    "\n",
    "    # Get all TESLA cars with the model year, and model type made in Bothell City\n",
    "    tesla_cars_in_bothell = df[(df['Car Make'] == 'TESLA') & (df['City'] == 'Bothell')]\n",
    "    tesla_cars_info = tesla_cars_in_bothell[['Model Year', 'Model Type']]\n",
    "\n",
    "    # Get all the cars that have an electric range of more than 100 and were made after 2015\n",
    "    electric_cars = df[(df['Electric Range (FT1)'] > 100) & (df['Model Year'] > 2015)]\n",
    "    electric_cars_info = electric_cars[['Car Make', 'Model Year', 'Model Type']]\n",
    "\n",
    "    # Draw plots to show the distribution between city and electric vehicle type\n",
    "    plt.figure(figsize=(12, 6))\n",
    "    sns.countplot(data=df, x='City', hue='Electric Vehicle Type')\n",
    "    plt.title('Distribution of Electric Vehicle Types in Cities')\n",
    "    plt.xlabel('City')\n",
    "    plt.ylabel('Count')\n",
    "    plt.xticks(rotation=90)\n",
    "\n",
    "    # Print the analysis results\n",
    "    print(\"Cars and their types that do not qualify for clean alternative fuel vehicle:\")\n",
    "    print(non_qualifying_cars_info)\n",
    "    print()\n",
    "    print(\"TESLA cars with the model year and model type made in Bothell City:\")\n",
    "    print(tesla_cars_info)\n",
    "    print()\n",
    "    print(\"Cars with an electric range of more than 100 and made after 2015:\")\n",
    "    print(electric_cars_info)\n",
    "\n",
    "    # Show the plot\n",
    "    plt.show()\n",
    "\n",
    "# Main function\n",
    "def main():\n",
    "    csv_link = \"https://data.wa.gov/api/views/f6w7-q2d2/rows.csv?accessType=DOWNLOAD\"\n",
    "    df = load_data(csv_link)\n",
    "    analyze_data(df)\n",
    "\n",
    "# Call the main function\n",
    "main()\n"
   ]
  },
  {
   "cell_type": "code",
   "execution_count": null,
   "id": "4295b7bb",
   "metadata": {},
   "outputs": [],
   "source": []
  }
 ],
 "metadata": {
  "kernelspec": {
   "display_name": "Python 3 (ipykernel)",
   "language": "python",
   "name": "python3"
  },
  "language_info": {
   "codemirror_mode": {
    "name": "ipython",
    "version": 3
   },
   "file_extension": ".py",
   "mimetype": "text/x-python",
   "name": "python",
   "nbconvert_exporter": "python",
   "pygments_lexer": "ipython3",
   "version": "3.9.7"
  }
 },
 "nbformat": 4,
 "nbformat_minor": 5
}
