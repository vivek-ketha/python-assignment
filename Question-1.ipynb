{
 "cells": [
  {
   "cell_type": "code",
   "execution_count": 1,
   "id": "d85a1b20",
   "metadata": {},
   "outputs": [
    {
     "name": "stdout",
     "output_type": "stream",
     "text": [
      "5\n"
     ]
    }
   ],
   "source": [
    "from collections import Counter\n",
    "\n",
    "def find_highest_frequency(string):\n",
    "    # Split the string into words\n",
    "    words = string.split()\n",
    "\n",
    "    # Count the frequency of each word\n",
    "    word_counts = Counter(words)\n",
    "\n",
    "    # Find the highest frequency\n",
    "    max_frequency = max(word_counts.values())\n",
    "\n",
    "    # Find the length of the highest-frequency word\n",
    "    highest_frequency_word = max(word_counts, key=word_counts.get)\n",
    "    highest_frequency_word_length = len(highest_frequency_word)\n",
    "\n",
    "    return highest_frequency_word_length\n",
    "\n",
    "# Test case\n",
    "string = \"write write write all the number from from from 1 to 100\"\n",
    "print(find_highest_frequency(string))"
   ]
  },
  {
   "cell_type": "code",
   "execution_count": null,
   "id": "78c570bb",
   "metadata": {},
   "outputs": [],
   "source": []
  }
 ],
 "metadata": {
  "kernelspec": {
   "display_name": "Python 3 (ipykernel)",
   "language": "python",
   "name": "python3"
  },
  "language_info": {
   "codemirror_mode": {
    "name": "ipython",
    "version": 3
   },
   "file_extension": ".py",
   "mimetype": "text/x-python",
   "name": "python",
   "nbconvert_exporter": "python",
   "pygments_lexer": "ipython3",
   "version": "3.9.7"
  }
 },
 "nbformat": 4,
 "nbformat_minor": 5
}
